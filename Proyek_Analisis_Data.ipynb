{
  "cells": [
    {
      "cell_type": "markdown",
      "metadata": {
        "id": "H9wADwK78DCz"
      },
      "source": [
        "# Proyek Analisis Data: [Input Nama Dataset]\n",
        "- **Nama:** Galang \n",
        "- **Email:** galang\n",
        "- **ID Dicoding:** galang"
      ]
    },
    {
      "cell_type": "markdown",
      "metadata": {
        "id": "eE0raob58DC0"
      },
      "source": [
        "## Menentukan Pertanyaan Bisnis"
      ]
    },
    {
      "cell_type": "markdown",
      "metadata": {
        "id": "GmQeQ5YF8DC0"
      },
      "source": [
        "- Bagaimana pengaruh musim terhadap jumlah peminjaman sepeda?\n",
        "- Apakah ada perbedaan signifikan dalam pola peminjaman sepeda antara hari kerja dan hari libur?"
      ]
    },
    {
      "cell_type": "markdown",
      "metadata": {
        "id": "H-z4QGlO8DC1"
      },
      "source": [
        "## Import Semua Packages/Library yang Digunakan"
      ]
    },
    {
      "cell_type": "code",
      "execution_count": 209,
      "metadata": {
        "id": "FVYwaObI8DC1"
      },
      "outputs": [],
      "source": [
        "import pandas as pd\n",
        "import matplotlib.pyplot as plt\n",
        "import seaborn as sns\n",
        "import numpy as np"
      ]
    },
    {
      "cell_type": "markdown",
      "metadata": {
        "id": "h_Sh51Xy8DC1"
      },
      "source": [
        "## Data Wrangling"
      ]
    },
    {
      "cell_type": "markdown",
      "metadata": {
        "id": "sXU2GBYu8DC1"
      },
      "source": [
        "### Gathering Data"
      ]
    },
    {
      "cell_type": "code",
      "execution_count": 210,
      "metadata": {
        "id": "zjCBk1BI8DC1"
      },
      "outputs": [],
      "source": [
        "df_day = pd.read_csv(\"Dataset/day.csv\")\n",
        "df_hour = pd.read_csv(\"Dataset/hour.csv\")"
      ]
    },
    {
      "cell_type": "code",
      "execution_count": null,
      "metadata": {},
      "outputs": [],
      "source": [
        "print(df_day.head())"
      ]
    },
    {
      "cell_type": "code",
      "execution_count": null,
      "metadata": {},
      "outputs": [],
      "source": [
        "print(df_hour.head())"
      ]
    },
    {
      "cell_type": "markdown",
      "metadata": {
        "id": "MMi6xGaDkbCi"
      },
      "source": [
        "**Insight:**\n",
        "- Data terdiri dari dua dataset: harian (df_day) dan per jam (df_hour)\n",
        "- Dataset harian memiliki informasi agregat untuk setiap hari\n",
        "- Dataset per jam memberikan informasi lebih rinci tentang peminjaman sepeda setiap jam"
      ]
    },
    {
      "cell_type": "markdown",
      "metadata": {
        "id": "FHSiqaZp8DC1"
      },
      "source": [
        "### Assessing Data"
      ]
    },
    {
      "cell_type": "code",
      "execution_count": null,
      "metadata": {
        "id": "ax-3tEjc9Cj1"
      },
      "outputs": [],
      "source": [
        "print('Dataframe day:')\n",
        "print(df_day.isna().sum())\n",
        "\n",
        "print('\\nDataframe hour:')\n",
        "print(df_hour.isna().sum())\n",
        "\n",
        "print('Dataframe day:', df_day.duplicated().sum())\n",
        "print('Dataframe hour:', df_hour.duplicated().sum())\n",
        "\n",
        "print(df_day.describe())\n",
        "print(df_hour.describe())"
      ]
    },
    {
      "cell_type": "markdown",
      "metadata": {
        "id": "7dtxhAPrkhPL"
      },
      "source": [
        "**Insight:**\n",
        "- Tidak ada nilai yang hilang (missing values) dalam kedua dataset\n",
        "- Tidak ada duplikasi data dalam kedua dataset\n",
        "- Dataset harian mencakup 731 hari (2 tahun)\n",
        "- Dataset per jam memiliki 17,379 entri (731 hari x 24 jam)"
      ]
    },
    {
      "cell_type": "markdown",
      "metadata": {
        "id": "EhN5R4hr8DC1"
      },
      "source": [
        "### Cleaning Data"
      ]
    },
    {
      "cell_type": "code",
      "execution_count": null,
      "metadata": {
        "id": "jVnYpprE9Evz"
      },
      "outputs": [],
      "source": [
        "df_day[\"dteday\"] = pd.to_datetime(df_day[\"dteday\"])\n",
        "df_hour[\"dteday\"] = pd.to_datetime(df_hour[\"dteday\"])\n",
        "\n",
        "print('df_day[\"dteday\"] : ', df_day[\"dteday\"].dtypes)\n",
        "print('df_hour[\"dteday\"] : ', df_hour[\"dteday\"].dtypes)"
      ]
    },
    {
      "cell_type": "markdown",
      "metadata": {
        "id": "Q_5ejIqckiSP"
      },
      "source": [
        "**Insight:**\n",
        "- Kolom 'dteday' diubah menjadi tipe data datetime untuk memudahkan analisis temporal\n",
        "- Tidak diperlukan pembersihan data lebih lanjut karena data sudah cukup bersih"
      ]
    },
    {
      "cell_type": "markdown",
      "metadata": {
        "id": "gp-Y6wU38DC1"
      },
      "source": [
        "## Exploratory Data Analysis (EDA)"
      ]
    },
    {
      "cell_type": "markdown",
      "metadata": {
        "id": "MW7WF2kr8DC1"
      },
      "source": [
        "### Explore Distribusi Variabel"
      ]
    },
    {
      "cell_type": "code",
      "execution_count": null,
      "metadata": {
        "id": "e9CQCZjk8DC2"
      },
      "outputs": [],
      "source": [
        "plt.figure(figsize=(15, 10))\n",
        "plt.suptitle('Distribusi Variabel pada Dataframe df_day', fontsize=16)\n",
        "\n",
        "for i, column in enumerate(['season', 'yr', 'mnth', 'holiday', 'weekday', 'workingday', 'weathersit']):\n",
        "    plt.subplot(2, 4, i+1)\n",
        "    sns.countplot(data=df_day, x=column)\n",
        "    plt.title(f'Distribusi {column}')\n",
        "\n",
        "plt.tight_layout()\n",
        "plt.subplots_adjust(top=0.9)\n",
        "plt.show()"
      ]
    },
    {
      "cell_type": "markdown",
      "metadata": {},
      "source": [
        "Heatmap Korelasi Antar Variabel di df_day"
      ]
    },
    {
      "cell_type": "code",
      "execution_count": null,
      "metadata": {},
      "outputs": [],
      "source": [
        "corr_day = df_day.corr()\n",
        "plt.figure(figsize=(15, 10))\n",
        "sns.heatmap(corr_day, annot=True, cmap='coolwarm', linewidths=0.5)\n",
        "plt.title('Heatmap Korelasi Antar Variabel di df_day')\n",
        "plt.show()"
      ]
    },
    {
      "cell_type": "markdown",
      "metadata": {},
      "source": [
        "Hubungan antara Kelembaban dan Jumlah Peminjaman Sepeda"
      ]
    },
    {
      "cell_type": "code",
      "execution_count": null,
      "metadata": {},
      "outputs": [],
      "source": [
        "# Create scatter plot\n",
        "plt.figure(figsize=(12, 8))\n",
        "plt.scatter(df_day['hum'], df_day['cnt'], alpha=0.5)\n",
        "plt.title('Hubungan antara Kelembaban (hum) dan Jumlah Peminjaman Sepeda (cnt)')\n",
        "plt.xlabel('Kelembaban (hum)')\n",
        "plt.ylabel('Jumlah Peminjaman Sepeda (cnt)')\n",
        "plt.show()\n",
        "\n",
        "plt.figure(figsize=(12, 8))\n",
        "sns.regplot(x='hum', y='cnt', data=df_day, scatter_kws={'alpha':0.5})\n",
        "plt.title('Hubungan antara Kelembaban (hum) dan Jumlah Peminjaman Sepeda (cnt) dengan Garis Regresi')\n",
        "plt.xlabel('Kelembaban (hum)')\n",
        "plt.ylabel('Jumlah Peminjaman Sepeda (cnt)')\n",
        "plt.show()\n",
        "\n",
        "# Calculate correlation\n",
        "correlation = df_day['hum'].corr(df_day['cnt'])\n",
        "print(f\"Korelasi antara kelembaban dan jumlah peminjaman sepeda: {correlation:.2f}\")"
      ]
    },
    {
      "cell_type": "markdown",
      "metadata": {},
      "source": [
        "Pengaruh Kondisi Cuaca terhadap Jumlah Peminjaman Sepeda"
      ]
    },
    {
      "cell_type": "code",
      "execution_count": null,
      "metadata": {},
      "outputs": [],
      "source": [
        "# Simpan salinan numerik dari 'weathersit'\n",
        "df_day['weathersit_num'] = df_day['weathersit']\n",
        "\n",
        "# Map weather situations to more descriptive labels\n",
        "weather_map = {1: 'Clear', 2: 'Mist/Cloudy', 3: 'Light Rain/Snow', 4: 'Heavy Rain/Snow'}\n",
        "df_day['weather_desc'] = df_day['weathersit'].map(weather_map)\n",
        "\n",
        "# Lanjutkan dengan visualisasi boxplot seperti sebelumnya\n",
        "plt.figure(figsize=(12, 6))\n",
        "sns.boxplot(x='weather_desc', y='cnt', data=df_day)\n",
        "plt.title('Distribusi Jumlah Peminjaman Sepeda berdasarkan Kondisi Cuaca')\n",
        "plt.xlabel('Kondisi Cuaca')\n",
        "plt.ylabel('Jumlah Peminjaman Sepeda')\n",
        "plt.xticks(rotation=45)\n",
        "plt.show()\n",
        "\n",
        "# Calculate average rentals for each weather condition\n",
        "avg_rentals = df_day.groupby('weather_desc')['cnt'].mean().sort_values(ascending=False)\n",
        "print(\"Rata-rata peminjaman sepeda berdasarkan kondisi cuaca:\")\n",
        "print(avg_rentals)"
      ]
    },
    {
      "cell_type": "markdown",
      "metadata": {},
      "source": [
        "Pengaruh Cuaca terhadap Peminjaman Sepeda per Musim"
      ]
    },
    {
      "cell_type": "code",
      "execution_count": null,
      "metadata": {},
      "outputs": [],
      "source": [
        "# Analisis interaksi antara cuaca dan musim\n",
        "season_weather = df_day.groupby(['season', 'weathersit'])['cnt'].mean().reset_index()\n",
        "season_weather['season'] = season_weather['season'].map({1: 'Spring', 2: 'Summer', 3: 'Fall', 4: 'Winter'})\n",
        "season_weather['weathersit'] = season_weather['weathersit'].map({1: 'Clear', 2: 'Mist', 3: 'Light Rain', 4: 'Heavy Rain'})\n",
        "\n",
        "plt.figure(figsize=(12, 6))\n",
        "sns.barplot(x='season', y='cnt', hue='weathersit', data=season_weather)\n",
        "plt.title('Pengaruh Cuaca terhadap Peminjaman Sepeda per Musim')\n",
        "plt.xlabel('Musim')\n",
        "plt.ylabel('Rata-rata Peminjaman Sepeda')\n",
        "plt.xticks(rotation=45)\n",
        "plt.legend(title='Kondisi Cuaca')\n",
        "plt.tight_layout()\n",
        "plt.show()"
      ]
    },
    {
      "cell_type": "markdown",
      "metadata": {
        "id": "th_Lzl2Fkj9O"
      },
      "source": [
        "**Insight:**\n",
        "- Distribusi musim cukup merata\n",
        "- Mayoritas hari adalah hari kerja\n",
        "- Cuaca umumnya baik (weathersit 1 dan 2)\n",
        "- Ada korelasi positif yang kuat antara 'temp' dan 'atemp' dengan 'cnt' (jumlah peminjaman)\n",
        "- 'Yr' juga memiliki korelasi positif dengan 'cnt', menunjukkan peningkatan peminjaman dari tahun ke tahun"
      ]
    },
    {
      "cell_type": "markdown",
      "metadata": {
        "id": "zsyZjqak8DC2"
      },
      "source": [
        "## Visualization & Explanatory Analysis"
      ]
    },
    {
      "cell_type": "markdown",
      "metadata": {
        "id": "HZxOiQ6n8DC2"
      },
      "source": [
        "### Pertanyaan 1: Bagaimana pengaruh musim terhadap jumlah peminjaman sepeda?"
      ]
    },
    {
      "cell_type": "code",
      "execution_count": null,
      "metadata": {
        "id": "1swJUdAD8DC2"
      },
      "outputs": [],
      "source": [
        "plt.figure(figsize=(12, 6))\n",
        "season_order = ['Spring', 'Summer', 'Fall', 'Winter']\n",
        "season_counts = df_day.groupby('season')['cnt'].mean().reindex([1,2,3,4]).reset_index()\n",
        "season_counts['Season'] = season_order\n",
        "sns.barplot(x='Season', y='cnt', data=season_counts, order=season_order)\n",
        "plt.title('Average Number of Bike Rentals by Season')\n",
        "plt.xlabel('Season')\n",
        "plt.ylabel('Average Number of Bike Rentals')\n",
        "\n",
        "# Add value labels on top of each bar\n",
        "for i, v in enumerate(season_counts['cnt']):\n",
        "    plt.text(i, v, f'{v:.0f}', ha='center', va='bottom')\n",
        "\n",
        "plt.show()"
      ]
    },
    {
      "cell_type": "markdown",
      "metadata": {
        "id": "DgHI7CiU8DC2"
      },
      "source": [
        "### Pertanyaan 2: Apakah ada perbedaan signifikan dalam pola peminjaman sepeda antara hari kerja dan hari libur?"
      ]
    },
    {
      "cell_type": "code",
      "execution_count": null,
      "metadata": {
        "id": "Go0lCsvO8DC2"
      },
      "outputs": [],
      "source": [
        "import matplotlib.pyplot as plt\n",
        "import seaborn as sns\n",
        "\n",
        "plt.figure(figsize=(14, 7))\n",
        "workingday_hourly = df_hour.groupby(['workingday', 'hr'])['cnt'].mean().reset_index()\n",
        "workingday_hourly['is_workingday'] = workingday_hourly['workingday'].map({0: 'Hari Libur', 1: 'Hari Kerja'})\n",
        "\n",
        "sns.lineplot(x='hr', y='cnt', hue='is_workingday', data=workingday_hourly)\n",
        "plt.title('Rata-rata Jumlah Sewa Sepeda per Jam: Hari Kerja vs Hari Libur', pad=20)\n",
        "plt.xlabel('Jam dalam Sehari')\n",
        "plt.ylabel('Rata-rata Jumlah Sewa Sepeda')\n",
        "plt.legend(title='Jenis Hari')\n",
        "\n",
        "# Daftar jam-jam penting\n",
        "important_hours = [6, 8, 12, 14, 17, 20]\n",
        "\n",
        "# Menambahkan garis vertikal dan label untuk jam-jam penting\n",
        "for hour in important_hours:\n",
        "    plt.axvline(x=hour, color='gray', linestyle='--', alpha=0.5)\n",
        "    plt.text(hour, plt.ylim()[1], f'{hour:02d}:00', ha='center', va='bottom')\n",
        "\n",
        "plt.xticks(range(0, 24, 2))  # Menampilkan label jam setiap 2 jam\n",
        "plt.grid(True, axis='y', linestyle=':', alpha=0.7)\n",
        "\n",
        "plt.tight_layout()\n",
        "plt.show()"
      ]
    },
    {
      "cell_type": "markdown",
      "metadata": {
        "id": "_0-36BDLklRg"
      },
      "source": [
        "**Insight:**\n",
        "- Musim panas dan musim gugur memiliki jumlah peminjaman sepeda tertinggi\n",
        "- Pola peminjaman sepeda sangat berbeda antara hari kerja dan hari libur\n",
        "- Pada hari kerja, terdapat dua puncak peminjaman yang jelas (pagi dan sore)\n",
        "- Pada hari libur, pola peminjaman lebih merata sepanjang hari"
      ]
    },
    {
      "cell_type": "markdown",
      "metadata": {
        "id": "9y4VUsmcYNZ5"
      },
      "source": [
        "## Analisis Lanjutan (Opsional)"
      ]
    },
    {
      "cell_type": "code",
      "execution_count": null,
      "metadata": {
        "id": "iWhnzsJGYUCO"
      },
      "outputs": [],
      "source": [
        "# Pilih hanya kolom numerik untuk korelasi\n",
        "numeric_columns = df_day.select_dtypes(include=[np.number]).columns\n",
        "corr_day = df_day[numeric_columns].corr()\n",
        "\n",
        "plt.figure(figsize=(15, 10))\n",
        "sns.heatmap(corr_day, annot=True, cmap='coolwarm', linewidths=0.5)\n",
        "plt.title('Heatmap Korelasi Antar Variabel di df_day')\n",
        "plt.show()\n",
        "\n",
        "# Print key correlations\n",
        "print(f\"Correlation between temperature and total rentals: {corr_day.loc['temp', 'cnt']:.2f}\")\n",
        "print(f\"Correlation between year and total rentals: {corr_day.loc['yr', 'cnt']:.2f}\")\n",
        "print(f\"Correlation between weather situation and total rentals: {corr_day.loc['weathersit_num', 'cnt']:.2f}\")"
      ]
    },
    {
      "cell_type": "markdown",
      "metadata": {
        "id": "_WeHlCeX8DC2"
      },
      "source": [
        "## Conclusion"
      ]
    },
    {
      "cell_type": "markdown",
      "metadata": {
        "id": "ZTcyR48Y8DC2"
      },
      "source": [
        "- Pengaruh musim terhadap jumlah peminjaman sepeda:\n",
        "  - Musim gugur (Fall) memiliki rata-rata peminjaman tertinggi dengan 5644 peminjaman\n",
        "  - Musim dingin memiliki rata-rata peminjaman terendah.\n",
        "  - Perbedaan antara musim puncak (gugur) dan musim terendah (dingin) cukup signifikan, menunjukkan pentingnya strategi musiman dalam pengelolaan layanan.\n",
        "\n",
        "- Perbedaan pola peminjaman sepeda antara hari kerja dan hari libur:\n",
        "  - Hari kerja menunjukkan dua puncak yang jelas: sekitar pukul 8:00 (berangkat kerja) dan 17:00 (pulang kerja).\n",
        "  - Hari libur memiliki pola yang lebih merata dengan satu puncak yang lebih lebar di siang hari.\n",
        "  - Pola ini mengindikasikan bahwa sepeda digunakan terutama untuk commuting pada hari kerja, sementara pada hari libur lebih banyak digunakan untuk rekreasi.\n",
        "\n",
        "- Analisis korelasi tambahan:\n",
        "  - Terdapat korelasi positif yang kuat (0.63) antara suhu dan jumlah peminjaman, menunjukkan bahwa cuaca hangat cenderung meningkatkan penggunaan sepeda.\n",
        "  - Ada korelasi positif (0.57) antara tahun dan jumlah peminjaman, mengindikasikan pertumbuhan popularitas layanan dari tahun ke tahun.\n",
        "  - Korelasi negatif (-0.3) antara situasi cuaca dan jumlah peminjaman menunjukkan bahwa cuaca buruk cenderung mengurangi penggunaan sepeda.\n",
        "\n",
        "Rekomendasi bisnis:\n",
        "1. Tingkatkan ketersediaan sepeda selama musim panas dan musim gugur untuk memenuhi permintaan puncak.\n",
        "2. Sesuaikan strategi pemasaran dan promosi berdasarkan musim, dengan fokus khusus pada peningkatan penggunaan di musim dingin.\n",
        "3. Optimalkan alokasi sepeda berdasarkan pola harian, dengan memastikan ketersediaan yang cukup pada jam-jam sibuk hari kerja.\n",
        "4. Pertimbangkan penawaran paket khusus untuk pengguna reguler yang menggunakan layanan untuk commuting."
      ]
    }
  ],
  "metadata": {
    "colab": {
      "provenance": []
    },
    "kernelspec": {
      "display_name": "Python 3",
      "language": "python",
      "name": "python3"
    },
    "language_info": {
      "codemirror_mode": {
        "name": "ipython",
        "version": 3
      },
      "file_extension": ".py",
      "mimetype": "text/x-python",
      "name": "python",
      "nbconvert_exporter": "python",
      "pygments_lexer": "ipython3",
      "version": "3.11.9"
    },
    "orig_nbformat": 4,
    "vscode": {
      "interpreter": {
        "hash": "972b3bf27e332e87b5379f2791f6ef9dfc79c71018c370b0d7423235e20fe4d7"
      }
    }
  },
  "nbformat": 4,
  "nbformat_minor": 0
}
